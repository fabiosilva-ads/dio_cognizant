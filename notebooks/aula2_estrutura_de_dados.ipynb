{
  "nbformat": 4,
  "nbformat_minor": 2,
  "metadata": {
    "colab": {
      "name": "Estrutura_de_dados.ipynb",
      "provenance": []
    },
    "kernelspec": {
      "name": "python3",
      "display_name": "Python 3.8.5 32-bit (system)"
    },
    "language_info": {
      "name": "python",
      "version": "3.8.5",
      "mimetype": "text/x-python",
      "codemirror_mode": {
        "name": "ipython",
        "version": 3
      },
      "pygments_lexer": "ipython3",
      "nbconvert_exporter": "python",
      "file_extension": ".py"
    },
    "interpreter": {
      "hash": "ca6dff34a4e266f26f18be6cc55e4a166d39f64cf067a748d1e100e290546c59"
    }
  },
  "cells": [
    {
      "cell_type": "markdown",
      "source": [
        "# AULA 2"
      ],
      "metadata": {}
    },
    {
      "cell_type": "markdown",
      "source": [
        "## **Listas**"
      ],
      "metadata": {
        "id": "0VKL1NCNhUfG",
        "colab_type": "text"
      }
    },
    {
      "cell_type": "code",
      "execution_count": 1,
      "source": [
        "#Criando uma lista chamada animais\r\n",
        "animais = [1,2,3]\r\n",
        "animais"
      ],
      "outputs": [
        {
          "output_type": "execute_result",
          "data": {
            "text/plain": [
              "[1, 2, 3]"
            ]
          },
          "metadata": {},
          "execution_count": 1
        }
      ],
      "metadata": {
        "id": "XHAFPHWmfFoB",
        "colab_type": "code",
        "colab": {
          "base_uri": "https://localhost:8080/",
          "height": 34
        },
        "outputId": "5dbb8e99-09ba-40db-f848-f2395ded9c73"
      }
    },
    {
      "cell_type": "code",
      "execution_count": 2,
      "source": [
        "animais = [\"cachorro\", \"gato\", 12345, 6.5]\r\n",
        "animais"
      ],
      "outputs": [
        {
          "output_type": "execute_result",
          "data": {
            "text/plain": [
              "['cachorro', 'gato', 12345, 6.5]"
            ]
          },
          "metadata": {},
          "execution_count": 2
        }
      ],
      "metadata": {
        "id": "5v-w_ftdga0J",
        "colab_type": "code",
        "colab": {
          "base_uri": "https://localhost:8080/",
          "height": 34
        },
        "outputId": "8ded31ab-a939-4f4d-caac-ef0a281bcfb6"
      }
    },
    {
      "cell_type": "code",
      "execution_count": 3,
      "source": [
        "#Imprimindo o primeiro elemento da lista\r\n",
        "animais[0]"
      ],
      "outputs": [
        {
          "output_type": "execute_result",
          "data": {
            "text/plain": [
              "'cachorro'"
            ]
          },
          "metadata": {},
          "execution_count": 3
        }
      ],
      "metadata": {
        "id": "bJkOFrGfgrKR",
        "colab_type": "code",
        "colab": {
          "base_uri": "https://localhost:8080/",
          "height": 34
        },
        "outputId": "273b6c48-3245-47d8-b8d4-e37865e52b21"
      }
    },
    {
      "cell_type": "code",
      "execution_count": 4,
      "source": [
        "#Imprimindo o 4 elemento da lista\r\n",
        "animais[3]"
      ],
      "outputs": [
        {
          "output_type": "execute_result",
          "data": {
            "text/plain": [
              "6.5"
            ]
          },
          "metadata": {},
          "execution_count": 4
        }
      ],
      "metadata": {
        "id": "M-2mXu3mgvuS",
        "colab_type": "code",
        "colab": {
          "base_uri": "https://localhost:8080/",
          "height": 34
        },
        "outputId": "81236f47-7507-4682-ee71-96d05ad1eb41"
      }
    },
    {
      "cell_type": "code",
      "execution_count": 5,
      "source": [
        "#Substituindo o primeiro elemento da lista\r\n",
        "animais[0] = \"papagaio\""
      ],
      "outputs": [],
      "metadata": {
        "id": "RDCW4hs_gxyT",
        "colab_type": "code",
        "colab": {}
      }
    },
    {
      "cell_type": "code",
      "execution_count": 6,
      "source": [
        "animais"
      ],
      "outputs": [
        {
          "output_type": "execute_result",
          "data": {
            "text/plain": [
              "['papagaio', 'gato', 12345, 6.5]"
            ]
          },
          "metadata": {},
          "execution_count": 6
        }
      ],
      "metadata": {
        "id": "QJrP-830gzvh",
        "colab_type": "code",
        "colab": {
          "base_uri": "https://localhost:8080/",
          "height": 34
        },
        "outputId": "e69ecaaa-d6a3-48ee-e08a-33b3c2417ad8"
      }
    },
    {
      "cell_type": "code",
      "execution_count": 7,
      "source": [
        "#Removendo gato da lista\r\n",
        "animais.remove(\"gato\")"
      ],
      "outputs": [],
      "metadata": {
        "id": "3QFbAI6Og0wP",
        "colab_type": "code",
        "colab": {}
      }
    },
    {
      "cell_type": "code",
      "execution_count": 8,
      "source": [
        "animais"
      ],
      "outputs": [
        {
          "output_type": "execute_result",
          "data": {
            "text/plain": [
              "['papagaio', 12345, 6.5]"
            ]
          },
          "metadata": {},
          "execution_count": 8
        }
      ],
      "metadata": {
        "id": "b8g1bs42g31p",
        "colab_type": "code",
        "colab": {
          "base_uri": "https://localhost:8080/",
          "height": 34
        },
        "outputId": "c4fa21bc-0375-4c4f-d645-1fa535ac3559"
      }
    },
    {
      "cell_type": "code",
      "execution_count": 9,
      "source": [
        "len(animais)"
      ],
      "outputs": [
        {
          "output_type": "execute_result",
          "data": {
            "text/plain": [
              "3"
            ]
          },
          "metadata": {},
          "execution_count": 9
        }
      ],
      "metadata": {
        "id": "xfu4p_g3g7OS",
        "colab_type": "code",
        "colab": {
          "base_uri": "https://localhost:8080/",
          "height": 34
        },
        "outputId": "1a511e7d-4616-4fe1-eaab-154d1b8a84d1"
      }
    },
    {
      "cell_type": "code",
      "execution_count": 10,
      "source": [
        "\"gato\" in animais"
      ],
      "outputs": [
        {
          "output_type": "execute_result",
          "data": {
            "text/plain": [
              "False"
            ]
          },
          "metadata": {},
          "execution_count": 10
        }
      ],
      "metadata": {
        "id": "0HedcjoFg-5m",
        "colab_type": "code",
        "colab": {
          "base_uri": "https://localhost:8080/",
          "height": 34
        },
        "outputId": "04ebec34-a75f-404a-b719-0ca710a24059"
      }
    },
    {
      "cell_type": "code",
      "execution_count": 11,
      "source": [
        "lista = [500, 30, 300, 80, 10]"
      ],
      "outputs": [],
      "metadata": {
        "id": "VDZ6nZU2hDdf",
        "colab_type": "code",
        "colab": {}
      }
    },
    {
      "cell_type": "code",
      "execution_count": 12,
      "source": [
        "max(lista)"
      ],
      "outputs": [
        {
          "output_type": "execute_result",
          "data": {
            "text/plain": [
              "500"
            ]
          },
          "metadata": {},
          "execution_count": 12
        }
      ],
      "metadata": {
        "id": "VjrYRfHJhGhL",
        "colab_type": "code",
        "colab": {
          "base_uri": "https://localhost:8080/",
          "height": 34
        },
        "outputId": "ad010fc6-b64f-4b11-ec1c-67ef22b93da0"
      }
    },
    {
      "cell_type": "code",
      "execution_count": 13,
      "source": [
        "min(lista)"
      ],
      "outputs": [
        {
          "output_type": "execute_result",
          "data": {
            "text/plain": [
              "10"
            ]
          },
          "metadata": {},
          "execution_count": 13
        }
      ],
      "metadata": {
        "id": "jkeXKWQPhJRr",
        "colab_type": "code",
        "colab": {
          "base_uri": "https://localhost:8080/",
          "height": 34
        },
        "outputId": "b8d73be6-aa7f-4129-bd57-9a8c294d5c77"
      }
    },
    {
      "cell_type": "code",
      "execution_count": 15,
      "source": [
        "animais.append([\"leão\", \"Cachorro\"])"
      ],
      "outputs": [],
      "metadata": {
        "id": "20T_hCwAhMsU",
        "colab_type": "code",
        "colab": {}
      }
    },
    {
      "cell_type": "code",
      "execution_count": 16,
      "source": [
        "animais"
      ],
      "outputs": [
        {
          "output_type": "execute_result",
          "data": {
            "text/plain": [
              "['papagaio', 12345, 6.5, ['leão', 'Cachorro'], ['leão', 'Cachorro']]"
            ]
          },
          "metadata": {},
          "execution_count": 16
        }
      ],
      "metadata": {
        "id": "WgWWMNJXhQdB",
        "colab_type": "code",
        "colab": {
          "base_uri": "https://localhost:8080/",
          "height": 34
        },
        "outputId": "b2a0495e-b1ee-469d-bae5-e771c20e1efb"
      }
    },
    {
      "cell_type": "code",
      "execution_count": null,
      "source": [
        "animais.extend([\"cobra\", 6])"
      ],
      "outputs": [],
      "metadata": {
        "id": "Cl-M69f5hSsD",
        "colab_type": "code",
        "colab": {}
      }
    },
    {
      "cell_type": "code",
      "execution_count": 17,
      "source": [
        "animais"
      ],
      "outputs": [
        {
          "output_type": "execute_result",
          "data": {
            "text/plain": [
              "['papagaio', 12345, 6.5, ['leão', 'Cachorro'], ['leão', 'Cachorro']]"
            ]
          },
          "metadata": {},
          "execution_count": 17
        }
      ],
      "metadata": {
        "id": "_scJEZbWMFBW",
        "colab_type": "code",
        "colab": {
          "base_uri": "https://localhost:8080/",
          "height": 34
        },
        "outputId": "9ae58baf-1d1c-408d-9026-4a74e5a7f4a4"
      }
    },
    {
      "cell_type": "code",
      "execution_count": 18,
      "source": [
        "animais.count(\"leão\")"
      ],
      "outputs": [
        {
          "output_type": "execute_result",
          "data": {
            "text/plain": [
              "0"
            ]
          },
          "metadata": {},
          "execution_count": 18
        }
      ],
      "metadata": {
        "id": "kNn0DiyxheHC",
        "colab_type": "code",
        "colab": {
          "base_uri": "https://localhost:8080/",
          "height": 34
        },
        "outputId": "b4a75f67-c2f5-4972-9ee1-17c6481c394a"
      }
    },
    {
      "cell_type": "code",
      "execution_count": 19,
      "source": [
        "lista.sort()"
      ],
      "outputs": [],
      "metadata": {
        "id": "VgoLBevzhinC",
        "colab_type": "code",
        "colab": {}
      }
    },
    {
      "cell_type": "code",
      "execution_count": 20,
      "source": [
        "lista"
      ],
      "outputs": [
        {
          "output_type": "execute_result",
          "data": {
            "text/plain": [
              "[10, 30, 80, 300, 500]"
            ]
          },
          "metadata": {},
          "execution_count": 20
        }
      ],
      "metadata": {
        "id": "mPJTKqXMhrDB",
        "colab_type": "code",
        "colab": {
          "base_uri": "https://localhost:8080/",
          "height": 34
        },
        "outputId": "aaa017a3-80a9-47ae-895a-63d6de385d18"
      }
    },
    {
      "cell_type": "markdown",
      "source": [
        "# **Tuplas**"
      ],
      "metadata": {
        "id": "VHmSI4EcoX-h",
        "colab_type": "text"
      }
    },
    {
      "cell_type": "code",
      "execution_count": 21,
      "source": [
        "#As tuplas usam parênteses como sintaxe\r\n",
        "tp = (\"Banana\", \"Maçã\", 10, 50)"
      ],
      "outputs": [],
      "metadata": {
        "id": "Qrv07mzWocDT",
        "colab_type": "code",
        "colab": {}
      }
    },
    {
      "cell_type": "code",
      "execution_count": 24,
      "source": [
        "#Retornando o primeiro elemento\r\n",
        "tp[0]"
      ],
      "outputs": [
        {
          "output_type": "execute_result",
          "data": {
            "text/plain": [
              "'Banana'"
            ]
          },
          "metadata": {},
          "execution_count": 24
        }
      ],
      "metadata": {
        "id": "r7ZMMLn8pt7R",
        "colab_type": "code",
        "colab": {
          "base_uri": "https://localhost:8080/",
          "height": 34
        },
        "outputId": "d2ad4094-b8d6-489f-a605-36c4b569bd8b"
      }
    },
    {
      "cell_type": "code",
      "execution_count": 25,
      "source": [
        "#Diferente das listas as tuplas são imutáveis, o que quer dizer que não podemos alterar os seus elementos\r\n",
        "tp[0] = \"Laranja\""
      ],
      "outputs": [
        {
          "output_type": "error",
          "ename": "TypeError",
          "evalue": "'tuple' object does not support item assignment",
          "traceback": [
            "\u001b[1;31m---------------------------------------------------------------------------\u001b[0m",
            "\u001b[1;31mTypeError\u001b[0m                                 Traceback (most recent call last)",
            "\u001b[1;32m<ipython-input-25-9264cd18bf8a>\u001b[0m in \u001b[0;36m<module>\u001b[1;34m\u001b[0m\n\u001b[0;32m      1\u001b[0m \u001b[1;31m#Diferente das listas as tuplas são imutáveis, o que quer dizer que não podemos alterar os seus elementos\u001b[0m\u001b[1;33m\u001b[0m\u001b[1;33m\u001b[0m\u001b[1;33m\u001b[0m\u001b[0m\n\u001b[1;32m----> 2\u001b[1;33m \u001b[0mtp\u001b[0m\u001b[1;33m[\u001b[0m\u001b[1;36m0\u001b[0m\u001b[1;33m]\u001b[0m \u001b[1;33m=\u001b[0m \u001b[1;34m\"Laranja\"\u001b[0m\u001b[1;33m\u001b[0m\u001b[1;33m\u001b[0m\u001b[0m\n\u001b[0m",
            "\u001b[1;31mTypeError\u001b[0m: 'tuple' object does not support item assignment"
          ]
        }
      ],
      "metadata": {
        "id": "jKRnh-DbpzBj",
        "colab_type": "code",
        "colab": {
          "base_uri": "https://localhost:8080/",
          "height": 180
        },
        "outputId": "04b2babe-4507-4279-8cfc-64e62f3c20cf"
      }
    },
    {
      "cell_type": "code",
      "execution_count": 26,
      "source": [
        "tp.count(\"Maçã\")"
      ],
      "outputs": [
        {
          "output_type": "execute_result",
          "data": {
            "text/plain": [
              "1"
            ]
          },
          "metadata": {},
          "execution_count": 26
        }
      ],
      "metadata": {
        "id": "a-KaNhePE0nb",
        "colab_type": "code",
        "colab": {
          "base_uri": "https://localhost:8080/",
          "height": 34
        },
        "outputId": "ddf3ebbd-355a-467e-d238-0c9601e07c61"
      }
    },
    {
      "cell_type": "code",
      "execution_count": 27,
      "source": [
        "tp[0:2]"
      ],
      "outputs": [
        {
          "output_type": "execute_result",
          "data": {
            "text/plain": [
              "('Banana', 'Maçã')"
            ]
          },
          "metadata": {},
          "execution_count": 27
        }
      ],
      "metadata": {
        "id": "ntXTi7MaFAX7",
        "colab_type": "code",
        "colab": {
          "base_uri": "https://localhost:8080/",
          "height": 34
        },
        "outputId": "595f3409-7948-4919-cff4-787d350423b7"
      }
    },
    {
      "cell_type": "markdown",
      "source": [
        "# **Dicionários**"
      ],
      "metadata": {
        "id": "Q0Ltz4kcFQps",
        "colab_type": "text"
      }
    },
    {
      "cell_type": "code",
      "execution_count": 28,
      "source": [
        "#Para criar um dicionário utilizamos as {}\r\n",
        "dc = {\"Maçã\":20, \"Banana\":10, \"Laranja\":15, \"Uva\":5} #Dicionários trabalham com o condeito chave e valor"
      ],
      "outputs": [],
      "metadata": {
        "id": "43OFknPUFO68",
        "colab_type": "code",
        "colab": {}
      }
    },
    {
      "cell_type": "code",
      "execution_count": 29,
      "source": [
        "dc"
      ],
      "outputs": [
        {
          "output_type": "execute_result",
          "data": {
            "text/plain": [
              "{'Maçã': 20, 'Banana': 10, 'Laranja': 15, 'Uva': 5}"
            ]
          },
          "metadata": {},
          "execution_count": 29
        }
      ],
      "metadata": {
        "id": "dCH9PefxGBdZ",
        "colab_type": "code",
        "colab": {
          "base_uri": "https://localhost:8080/",
          "height": 34
        },
        "outputId": "4017b350-db9b-4404-8f2b-1d41d9e983bf"
      }
    },
    {
      "cell_type": "code",
      "execution_count": 30,
      "source": [
        "#Acessando o valor de um dicionário através da chave\r\n",
        "dc[\"Maçã\"]"
      ],
      "outputs": [
        {
          "output_type": "execute_result",
          "data": {
            "text/plain": [
              "20"
            ]
          },
          "metadata": {},
          "execution_count": 30
        }
      ],
      "metadata": {
        "id": "iyGxfz72FxNa",
        "colab_type": "code",
        "colab": {
          "base_uri": "https://localhost:8080/",
          "height": 34
        },
        "outputId": "4e85b169-8639-4402-ddcf-5a954e6acd9f"
      }
    },
    {
      "cell_type": "code",
      "execution_count": 31,
      "source": [
        "#Atualizando o valor da Maçã\r\n",
        "dc[\"Maçã\"] = 25\r\n",
        "dc"
      ],
      "outputs": [
        {
          "output_type": "execute_result",
          "data": {
            "text/plain": [
              "{'Maçã': 25, 'Banana': 10, 'Laranja': 15, 'Uva': 5}"
            ]
          },
          "metadata": {},
          "execution_count": 31
        }
      ],
      "metadata": {
        "id": "6WwkohdpF5Cq",
        "colab_type": "code",
        "colab": {
          "base_uri": "https://localhost:8080/",
          "height": 34
        },
        "outputId": "053f88f7-b499-47d5-c741-25f0a394e2c8"
      }
    },
    {
      "cell_type": "code",
      "execution_count": 32,
      "source": [
        "#Retornando todas as chaves do dicionário\r\n",
        "dc.keys()"
      ],
      "outputs": [
        {
          "output_type": "execute_result",
          "data": {
            "text/plain": [
              "dict_keys(['Maçã', 'Banana', 'Laranja', 'Uva'])"
            ]
          },
          "metadata": {},
          "execution_count": 32
        }
      ],
      "metadata": {
        "id": "_50MV-XaGFae",
        "colab_type": "code",
        "colab": {
          "base_uri": "https://localhost:8080/",
          "height": 34
        },
        "outputId": "53879989-4805-4017-f5a9-9294ba60d86a"
      }
    },
    {
      "cell_type": "code",
      "execution_count": 33,
      "source": [
        "#Retornando os valores do dicionário\r\n",
        "dc.values()"
      ],
      "outputs": [
        {
          "output_type": "execute_result",
          "data": {
            "text/plain": [
              "dict_values([25, 10, 15, 5])"
            ]
          },
          "metadata": {},
          "execution_count": 33
        }
      ],
      "metadata": {
        "id": "AHLXfikMGRS4",
        "colab_type": "code",
        "colab": {
          "base_uri": "https://localhost:8080/",
          "height": 34
        },
        "outputId": "1beaa637-f1dd-4122-80a5-5d317c993943"
      }
    },
    {
      "cell_type": "code",
      "execution_count": 34,
      "source": [
        "#Verificando se já existe uma chave no dicionário e caso não exista inserir\r\n",
        "dc.setdefault(\"Limão\", 22)"
      ],
      "outputs": [
        {
          "output_type": "execute_result",
          "data": {
            "text/plain": [
              "22"
            ]
          },
          "metadata": {},
          "execution_count": 34
        }
      ],
      "metadata": {
        "id": "co2yQ4IrGX8n",
        "colab_type": "code",
        "colab": {
          "base_uri": "https://localhost:8080/",
          "height": 34
        },
        "outputId": "f8f5dc72-2f3d-433b-c54b-cea91173e306"
      }
    },
    {
      "cell_type": "code",
      "execution_count": 35,
      "source": [
        "dc"
      ],
      "outputs": [
        {
          "output_type": "execute_result",
          "data": {
            "text/plain": [
              "{'Maçã': 25, 'Banana': 10, 'Laranja': 15, 'Uva': 5, 'Limão': 22}"
            ]
          },
          "metadata": {},
          "execution_count": 35
        }
      ],
      "metadata": {
        "id": "M9_v4jAZGyz6",
        "colab_type": "code",
        "colab": {
          "base_uri": "https://localhost:8080/",
          "height": 34
        },
        "outputId": "e8754510-9f3c-4560-c4c1-133cbc06cf9b"
      }
    },
    {
      "cell_type": "code",
      "execution_count": null,
      "source": [],
      "outputs": [],
      "metadata": {
        "id": "l2-4mE1LG0CC",
        "colab_type": "code",
        "colab": {}
      }
    }
  ]
}